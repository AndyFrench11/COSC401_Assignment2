{
 "cells": [
  {
   "cell_type": "markdown",
   "metadata": {},
   "source": [
    "# COSC401 Assignment 2\n",
    "## Andrew French \n",
    "### ID: 11147452"
   ]
  },
  {
   "cell_type": "markdown",
   "metadata": {},
   "source": [
    "Below is all of the libraries and modules needed for the entire program being imported. \n",
    "Make sure to run this step before running any of the feature code."
   ]
  },
  {
   "cell_type": "code",
   "execution_count": 6,
   "metadata": {},
   "outputs": [],
   "source": [
    "import numpy as np\n",
    "import pandas as pd\n",
    "import torch\n",
    "import random"
   ]
  },
  {
   "cell_type": "markdown",
   "metadata": {},
   "source": [
    "Below is all of the variables set that are global to the program."
   ]
  },
  {
   "cell_type": "code",
   "execution_count": 2,
   "metadata": {},
   "outputs": [],
   "source": [
    "np.random.seed(19680801)\n",
    "plt.rcParams['figure.figsize'] = (10,5)"
   ]
  },
  {
   "cell_type": "markdown",
   "metadata": {},
   "source": [
    "## Part 1 - Gradient-based Learning with Tensors"
   ]
  },
  {
   "cell_type": "code",
   "execution_count": 43,
   "metadata": {},
   "outputs": [],
   "source": [
    "DATA_SIZE = 1000\n",
    "RANDOM_STD_DEV = 0.01"
   ]
  },
  {
   "cell_type": "code",
   "execution_count": 47,
   "metadata": {},
   "outputs": [],
   "source": [
    "def noiseFunction():\n",
    "    return random.gauss(1, RANDOM_STD_DEV)\n",
    "\n",
    "def ran_int():\n",
    "    return random.randint(1, 100)\n",
    "\n",
    "def inputFunc1(x1, x2, x4):\n",
    "    return x1 + x2 - x4 + noiseFunction()\n",
    "\n",
    "def inputFunc2(x2, x3):\n",
    "    return x2 * 3 + x3 + noiseFunction()\n",
    "\n",
    "def inputFunc3(x2, x4):\n",
    "    return x2 + x4 + 2 + noiseFunction()\n",
    "\n",
    "def inputFunc4(x1, x3):\n",
    "    return (x1 - x3) * 2 + noiseFunction()\n",
    "\n",
    "def inputFunc5(x1, x4):\n",
    "    return (x4 + x1) - 6 + noiseFunction()\n",
    "\n",
    "def modelFunc(x, w, b):\n",
    "    \"\"\"Performs matrix multiplication...\"\"\"\n",
    "    return x @ w.t() + b\n",
    "\n",
    "def mse(t1, t2):\n",
    "    \"\"\"Mean Squared Error loss function\"\"\"\n",
    "    diff = t1 - t2\n",
    "    return torch.sum(diff * diff) / diff.numel()\n",
    "    "
   ]
  },
  {
   "cell_type": "code",
   "execution_count": 48,
   "metadata": {},
   "outputs": [],
   "source": [
    "input_data_list = []\n",
    "target_data_list = []\n",
    "\n",
    "for i in range(DATA_SIZE):\n",
    "    x1, x2, x3, x4 = ran_int(), ran_int(), ran_int(), ran_int()\n",
    "    input_data_list.append([x1, x2, x3, x4])\n",
    "    target_data_list.append([inputFunc1(x1, x2, x4), inputFunc2(x2, x3), inputFunc3(x2, x4), inputFunc4(x1, x3), \n",
    "                      inputFunc5(x1, x4)])\n",
    "    \n",
    "input_data = np.array(input_data_list, dtype='float32')\n",
    "target_data = np.array(target_data_list, dtype='float32')\n",
    "\n",
    "#Convert to tensors\n",
    "inputs = torch.from_numpy(input_data)\n",
    "targets = torch.from_numpy(target_data)"
   ]
  },
  {
   "cell_type": "code",
   "execution_count": 50,
   "metadata": {},
   "outputs": [
    {
     "name": "stdout",
     "output_type": "stream",
     "text": [
      "Iteration: 0, Loss 24602.76171875\n",
      "Iteration: 10000, Loss 0.7094482779502869\n",
      "Iteration: 20000, Loss 0.6653133034706116\n",
      "Iteration: 30000, Loss 0.6239269375801086\n",
      "Iteration: 40000, Loss 0.5851123332977295\n",
      "Iteration: 50000, Loss 0.5487135648727417\n",
      "Iteration: 60000, Loss 0.5145819783210754\n",
      "Iteration: 70000, Loss 0.4825710952281952\n",
      "Iteration: 80000, Loss 0.4525541067123413\n",
      "Iteration: 90000, Loss 0.42440658807754517\n",
      "Iteration: 100000, Loss 0.3980015218257904\n",
      "Iteration: 110000, Loss 0.3732510209083557\n",
      "Iteration: 120000, Loss 0.3500339090824127\n",
      "Iteration: 130000, Loss 0.3282581865787506\n",
      "Iteration: 140000, Loss 0.3078409731388092\n",
      "Iteration: 150000, Loss 0.2886984348297119\n",
      "Iteration: 160000, Loss 0.2707436680793762\n",
      "Iteration: 170000, Loss 0.2539035677909851\n",
      "Iteration: 180000, Loss 0.23811420798301697\n",
      "Iteration: 190000, Loss 0.2233061045408249\n",
      "Iteration: 200000, Loss 0.2094200700521469\n",
      "Iteration: 210000, Loss 0.19639381766319275\n",
      "Iteration: 220000, Loss 0.18419933319091797\n",
      "Iteration: 230000, Loss 0.17273564636707306\n",
      "Iteration: 240000, Loss 0.1620052605867386\n",
      "Iteration: 250000, Loss 0.1519431471824646\n",
      "Iteration: 260000, Loss 0.14249175786972046\n",
      "Iteration: 270000, Loss 0.13364888727664948\n",
      "Iteration: 280000, Loss 0.1253279596567154\n",
      "Iteration: 290000, Loss 0.11754334717988968\n",
      "Iteration: 300000, Loss 0.11024335026741028\n",
      "Iteration: 310000, Loss 0.1033763661980629\n",
      "Iteration: 320000, Loss 0.09696520864963531\n",
      "Iteration: 330000, Loss 0.09094289690256119\n",
      "Iteration: 340000, Loss 0.08527815341949463\n",
      "Iteration: 350000, Loss 0.07998241484165192\n",
      "Iteration: 360000, Loss 0.07500825077295303\n",
      "Iteration: 370000, Loss 0.07034646719694138\n",
      "Iteration: 380000, Loss 0.06597918272018433\n",
      "Iteration: 390000, Loss 0.06189657002687454\n",
      "Iteration: 400000, Loss 0.058042529970407486\n",
      "Iteration: 410000, Loss 0.05443236604332924\n",
      "Iteration: 420000, Loss 0.05105731263756752\n",
      "Iteration: 430000, Loss 0.047890663146972656\n",
      "Iteration: 440000, Loss 0.04492214322090149\n",
      "Iteration: 450000, Loss 0.04213689640164375\n"
     ]
    }
   ],
   "source": [
    "w = torch.randn(5, 4, requires_grad=True)\n",
    "b = torch.randn(5, requires_grad=True)\n",
    "\n",
    "print(f\"Beginning gradient-based learning...\")\n",
    "preds = modelFunc(inputs, w, b)\n",
    "loss = mse(preds, targets)\n",
    "\n",
    "learning_rate = 1e-4\n",
    "count = 0\n",
    "while count < 1000000 and loss.item() > 0.04:\n",
    "    preds = modelFunc(inputs, w, b)\n",
    "    loss = mse(preds, targets)\n",
    "    loss.backward()\n",
    "    with torch.no_grad():\n",
    "        w -= learning_rate * w.grad\n",
    "        b -= learning_rate * b.grad\n",
    "        w.grad.zero_()\n",
    "        b.grad.zero_()\n",
    "    if count % 10000 == 0:\n",
    "        print(f\"Iteration: {count}, Loss {loss.item()}\")\n",
    "    count += 1\n",
    "    \n",
    "print(f\"Learning finished.\")"
   ]
  },
  {
   "cell_type": "markdown",
   "metadata": {},
   "source": [
    "## Part 2 - Transfer Learning"
   ]
  },
  {
   "cell_type": "markdown",
   "metadata": {},
   "source": [
    "All imports for this part of the question."
   ]
  },
  {
   "cell_type": "code",
   "execution_count": 59,
   "metadata": {},
   "outputs": [],
   "source": [
    "from __future__ import print_function, division\n",
    "\n",
    "import torch\n",
    "import torch.nn as nn\n",
    "import torch.nn.functional as F\n",
    "import torch.optim as optim\n",
    "from torch.optim import lr_scheduler\n",
    "import numpy as np\n",
    "import torchvision\n",
    "from torchvision import datasets, models, transforms\n",
    "import matplotlib.pyplot as plt\n",
    "from matplotlib.pyplot import figure\n",
    "import time\n",
    "import os\n",
    "import copy\n",
    "\n",
    "plt.ion()   # interactive mode"
   ]
  },
  {
   "cell_type": "markdown",
   "metadata": {},
   "source": [
    "All Globals for Running the MNIST Training on its own"
   ]
  },
  {
   "cell_type": "code",
   "execution_count": 93,
   "metadata": {},
   "outputs": [],
   "source": [
    "SEED = 1\n",
    "MNIST_BATCH_SIZE = 100\n",
    "CIFAR10_BATCH_SIZE = 300\n",
    "LR = 0.005\n",
    "MOMENTUM = 0.5\n",
    "LOG_INTERVAL = 100\n",
    "SAVE_MODEL = False\n",
    "EPOCHS = 1"
   ]
  },
  {
   "cell_type": "markdown",
   "metadata": {},
   "source": [
    "The functions to train and test a given model dataset"
   ]
  },
  {
   "cell_type": "code",
   "execution_count": 94,
   "metadata": {},
   "outputs": [],
   "source": [
    "def train(model, device, train_loader, optimizer, epoch):\n",
    "    correct = 0\n",
    "    accuracies = []\n",
    "    losses = []\n",
    "    model.train()\n",
    "    for batch_idx, (data, target) in enumerate(train_loader):\n",
    "        data, target = data.to(device), target.to(device)\n",
    "        optimizer.zero_grad()\n",
    "        output = model(data)\n",
    "        loss = F.nll_loss(output, target)\n",
    "        \n",
    "        #Add to lists\n",
    "        losses.append(loss.item())\n",
    "        loss.backward()\n",
    "        optimizer.step()\n",
    "        \n",
    "        #Accuracy\n",
    "        total = target.size(0)\n",
    "        _, predicted = torch.max(output.data, 1)\n",
    "        correct = (predicted == target).sum().item()\n",
    "        accuracies.append(correct / total)\n",
    "        \n",
    "        if batch_idx % LOG_INTERVAL == 0:\n",
    "            print('Train Epoch: {} [{}/{} ({:.0f}%)]\\tLoss: {:.6f}'.format(\n",
    "                epoch, batch_idx * len(data), len(train_loader.dataset),\n",
    "                100. * batch_idx / len(train_loader), loss.item()))\n",
    "    \n",
    "    return losses\n",
    "    \n",
    "\n",
    "            \n",
    "def test(model, device, test_loader):\n",
    "    model.eval()\n",
    "    test_loss = 0\n",
    "    correct = 0\n",
    "    with torch.no_grad():\n",
    "        for data, target in test_loader:\n",
    "            data, target = data.to(device), target.to(device)\n",
    "            output = model(data)\n",
    "            test_loss += F.nll_loss(output, target, reduction='sum').item() # sum up batch loss\n",
    "            pred = output.argmax(dim=1, keepdim=True) # get the index of the max log-probability\n",
    "            correct += pred.eq(target.view_as(pred)).sum().item()\n",
    "\n",
    "    test_loss /= len(test_loader.dataset)\n",
    "\n",
    "    print('\\nTest set: Average loss: {:.4f}, Accuracy: {}/{} ({:.0f}%)\\n'.format(\n",
    "        test_loss, correct, len(test_loader.dataset),\n",
    "        100. * correct / len(test_loader.dataset)))"
   ]
  },
  {
   "cell_type": "markdown",
   "metadata": {},
   "source": [
    "The Neural Network class for the Datasets"
   ]
  },
  {
   "cell_type": "code",
   "execution_count": 95,
   "metadata": {},
   "outputs": [],
   "source": [
    "class Net(nn.Module):\n",
    "    def __init__(self):\n",
    "        super(Net, self).__init__()\n",
    "        self.conv1 = nn.Conv2d(1, 20, 5, 1)\n",
    "        self.conv2 = nn.Conv2d(20, 50, 5, 1)\n",
    "        self.fc1 = nn.Linear(4*4*50, 500)\n",
    "        self.fc2 = nn.Linear(500, 10)\n",
    "\n",
    "    def forward(self, x):\n",
    "        x = F.relu(self.conv1(x))\n",
    "        x = F.max_pool2d(x, 2, 2)\n",
    "        x = F.relu(self.conv2(x))\n",
    "        x = F.max_pool2d(x, 2, 2)\n",
    "        x = x.view(-1, 4*4*50)\n",
    "        x = F.relu(self.fc1(x))\n",
    "        x = self.fc2(x)\n",
    "        return F.log_softmax(x, dim=1)"
   ]
  },
  {
   "cell_type": "code",
   "execution_count": 96,
   "metadata": {},
   "outputs": [],
   "source": [
    "#MNIST\n",
    "def trainAndTestMNIST():\n",
    "    torch.manual_seed(SEED)\n",
    "\n",
    "    device = torch.device(\"cpu\")\n",
    "\n",
    "    kwargs = {}\n",
    "\n",
    "    mnist_transforms = transforms.Compose([\n",
    "                           transforms.ToTensor(),\n",
    "                           transforms.Normalize((0.1307,), (0.3081,))\n",
    "                       ])\n",
    "\n",
    "    mnist_train_dataset = datasets.MNIST('../data', train=True, download=True,\n",
    "                       transform=mnist_transforms)\n",
    "\n",
    "    mnist_test_dataset = datasets.MNIST('../data', train=False, \n",
    "                       transform=mnist_transforms)\n",
    "\n",
    "    mnist_train_loader = torch.utils.data.DataLoader(mnist_train_dataset, batch_size=MNIST_BATCH_SIZE, shuffle=True, **kwargs)\n",
    "\n",
    "    mnist_test_loader = torch.utils.data.DataLoader(mnist_test_dataset, batch_size=MNIST_BATCH_SIZE, shuffle=True, **kwargs)\n",
    "\n",
    "\n",
    "    model = Net().to(device)\n",
    "    optimizer = optim.SGD(model.parameters(), lr=LR, momentum=MOMENTUM)\n",
    "    #optimizer = torch.optim.Adam(model.parameters(), lr=LR)\n",
    "\n",
    "    #epoch = EPOCHS\n",
    "    for epoch in range(1, EPOCHS + 1):\n",
    "        losses = train(model, device, mnist_train_loader, optimizer, epoch)\n",
    "        test(model, device, mnist_test_loader)\n",
    "    \n",
    "    return model"
   ]
  },
  {
   "cell_type": "code",
   "execution_count": 97,
   "metadata": {},
   "outputs": [],
   "source": [
    "#CIFAR10 \n",
    "def trainAndTestCIFAR10(trainedModel=None):\n",
    "    torch.manual_seed(SEED)\n",
    "\n",
    "    device = torch.device(\"cpu\")\n",
    "\n",
    "    kwargs = {}\n",
    "\n",
    "    cifar10_transforms = transforms.Compose([\n",
    "                        transforms.CenterCrop(28),\n",
    "                        transforms.Grayscale(num_output_channels=1),\n",
    "                       transforms.ToTensor(),\n",
    "                       transforms.Normalize((0.1307,), (0.3081,))\n",
    "                   ])\n",
    "\n",
    "    cifar10_train_dataset = datasets.CIFAR10('../data', train=True, download=True,\n",
    "                       transform=cifar10_transforms)\n",
    "\n",
    "    cifar10_test_dataset = datasets.CIFAR10('../data', train=False, \n",
    "                       transform=cifar10_transforms)\n",
    "\n",
    "    cifar10_train_loader = torch.utils.data.DataLoader(cifar10_train_dataset, batch_size=CIFAR10_BATCH_SIZE, shuffle=True, **kwargs)\n",
    "\n",
    "    cifar10_test_loader = torch.utils.data.DataLoader(cifar10_test_dataset, batch_size=CIFAR10_BATCH_SIZE, shuffle=True, **kwargs)\n",
    "\n",
    "    model = Net().to(device)\n",
    "    if trainedModel is not None:\n",
    "        #Transfer over the trained layers\n",
    "        model.conv1 = trainedModel.conv1\n",
    "        model.conv2 = trainedModel.conv2\n",
    "\n",
    "    optimizer = optim.SGD(model.parameters(), lr=LR, momentum=MOMENTUM)\n",
    "    #optimizer = torch.optim.Adam(model.parameters(), lr=LR)\n",
    "\n",
    "    #epoch = EPOCHS\n",
    "    for epoch in range(1, EPOCHS + 1):\n",
    "        losses = train(model, device, cifar10_train_loader, optimizer, epoch)\n",
    "        test(model, device, cifar10_test_loader)\n",
    "    \n",
    "    return losses\n"
   ]
  },
  {
   "cell_type": "code",
   "execution_count": 98,
   "metadata": {},
   "outputs": [
    {
     "name": "stdout",
     "output_type": "stream",
     "text": [
      "MNIST Data Train and Test\n",
      "Train Epoch: 1 [0/60000 (0%)]\tLoss: 2.307325\n",
      "Train Epoch: 1 [10000/60000 (17%)]\tLoss: 1.396828\n",
      "Train Epoch: 1 [20000/60000 (33%)]\tLoss: 0.630131\n",
      "Train Epoch: 1 [30000/60000 (50%)]\tLoss: 0.360468\n",
      "Train Epoch: 1 [40000/60000 (67%)]\tLoss: 0.203744\n",
      "Train Epoch: 1 [50000/60000 (83%)]\tLoss: 0.227798\n",
      "\n",
      "Test set: Average loss: 0.2235, Accuracy: 9352/10000 (94%)\n",
      "\n",
      "CIFAR10 Data Train and Test without Transfer Learning\n",
      "Files already downloaded and verified\n",
      "Train Epoch: 1 [0/50000 (0%)]\tLoss: 2.305651\n",
      "Train Epoch: 1 [30000/50000 (60%)]\tLoss: 2.286964\n",
      "\n",
      "Test set: Average loss: 2.2687, Accuracy: 1594/10000 (16%)\n",
      "\n",
      "CIFAR10 Data Train and Test with Transfer Learning\n",
      "Files already downloaded and verified\n",
      "Train Epoch: 1 [0/50000 (0%)]\tLoss: 2.527988\n",
      "Train Epoch: 1 [30000/50000 (60%)]\tLoss: 2.122441\n",
      "\n",
      "Test set: Average loss: 2.0893, Accuracy: 2419/10000 (24%)\n",
      "\n"
     ]
    },
    {
     "data": {
      "image/png": "[encoded data removed]",
      "text/plain": [
       "<Figure size 640x640 with 1 Axes>"
      ]
     },
     "metadata": {},
     "output_type": "display_data"
    }
   ],
   "source": [
    "print(\"MNIST Data Train and Test\")\n",
    "mnist_model = trainAndTestMNIST()\n",
    "print(\"CIFAR10 Data Train and Test without Transfer Learning\")\n",
    "non_transferred_losses = trainAndTestCIFAR10();\n",
    "print(\"CIFAR10 Data Train and Test with Transfer Learning\")\n",
    "transferred_losses = trainAndTestCIFAR10(mnist_model);\n",
    "    \n",
    "figure(num=None, figsize=(8, 8), dpi=80, facecolor='w', edgecolor='k')\n",
    "plt.plot(non_transferred_losses, '-g', label='Untransferred Loss')\n",
    "plt.plot(transferred_losses, '-r', label='Transferred Loss')\n",
    "\n",
    "plt.xlabel(\"n iteration\")\n",
    "plt.legend(loc='upper left')\n",
    "plt.title(\"CIFAR10 Data Set Pre and Post Transfer Learning\")\n",
    "\n",
    "plt.show()\n"
   ]
  },
  {
   "cell_type": "markdown",
   "metadata": {},
   "source": [
    "This graph is used to display the loss before and after transfer learning."
   ]
  },
  {
   "cell_type": "markdown",
   "metadata": {},
   "source": [
    "## Part 3 - Small Research/Thinking Activity - Cost-Sensitive Learning"
   ]
  },
  {
   "cell_type": "markdown",
   "metadata": {},
   "source": [
    "Suppose you are given a k-by-k cost matrix C for a classification task which\n",
    "has k classes. The element Ci,j is the cost of classifying an instance of class j\n",
    "as class i. You want to train a classifier that minimises the expected cost of\n",
    "predictions. Do the following:\n",
    "1. Write a pseudocode or Python code for a loss function that, once optimised\n",
    "over all examples, achieves minimum expected cost of prediction.\n",
    "2. Assuming that a learning algorithm which minimises the classification\n",
    "error is given to you (and that you cannot supply your own loss function\n",
    "to the algorithm), think and write about a different way of achieving\n",
    "minimum expected cost of prediction.\n",
    "Additional notes or requirements:\n",
    "• Consider cases with k ≥ 2 and briefly discuss if the two methods are\n",
    "scalable.\n",
    "• You do not have to use tensors in this questions.\n",
    "• If you choose to write in Python, you do not have to run your program\n",
    "on any particular input. You can also use “pseudo-Python” if you wish."
   ]
  },
  {
   "cell_type": "markdown",
   "metadata": {},
   "source": [
    "### Part 3.2 - Achieving minimym expected cost of prediction\n",
    "Idea: if you have a classifer with lots of data and one without, reduce the size of the data to match the smaller one."
   ]
  },
  {
   "cell_type": "code",
   "execution_count": null,
   "metadata": {},
   "outputs": [],
   "source": []
  }
 ],
 "metadata": {
  "kernelspec": {
   "display_name": "Python 3",
   "language": "python",
   "name": "python3"
  },
  "language_info": {
   "codemirror_mode": {
    "name": "ipython",
    "version": 3
   },
   "file_extension": ".py",
   "mimetype": "text/x-python",
   "name": "python",
   "nbconvert_exporter": "python",
   "pygments_lexer": "ipython3",
   "version": "3.7.4"
  }
 },
 "nbformat": 4,
 "nbformat_minor": 2
}
